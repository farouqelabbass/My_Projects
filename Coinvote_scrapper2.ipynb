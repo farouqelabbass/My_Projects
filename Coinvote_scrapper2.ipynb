{
 "cells": [
  {
   "cell_type": "code",
   "execution_count": 1,
   "id": "03588c85-5cce-423b-a9a7-c7ff264c3d45",
   "metadata": {},
   "outputs": [],
   "source": [
    "import cloudscraper\n",
    "import requests\n",
    "from bs4 import BeautifulSoup\n",
    "import pandas as pd\n",
    "import unicodedata\n",
    "import urllib3\n",
    "urllib3.disable_warnings()"
   ]
  },
  {
   "cell_type": "code",
   "execution_count": 33,
   "id": "970c15f7-1553-4fde-8b8e-820dda22b656",
   "metadata": {},
   "outputs": [],
   "source": [
    "scraper = cloudscraper.CloudScraper()\n",
    "page = requests.get(\"https://coinvote.cc/\", verify=False)"
   ]
  },
  {
   "cell_type": "code",
   "execution_count": 36,
   "id": "733a506d-077b-4aaa-b30a-627ca8d3c769",
   "metadata": {},
   "outputs": [],
   "source": [
    "html = BeautifulSoup(page.content, 'html.parser')\n",
    "[type(item) for item in list(html.children)]\n",
    "foo=list(html.children)[3]"
   ]
  },
  {
   "cell_type": "code",
   "execution_count": 37,
   "id": "917ac6a9-6590-460c-a960-2fdf654ac784",
   "metadata": {},
   "outputs": [],
   "source": [
    "s=[]\n",
    "for i in range(len(list(foo.find(class_ = \"premium-table\").find_all(class_=\"coin-column-title redirect-coin\")))):\n",
    "    s.append(list(foo.find(class_ = \"premium-table\").find_all(class_=\"coin-column-title redirect-coin\"))[i].get_text().replace(\"\\n\",\" \"))\n",
    "cap=[]\n",
    "for i in range (1,len(s),3):\n",
    "    cap.append(s[i])\n",
    "date=[]\n",
    "for i in range (2,len(s),3):\n",
    "    date.append(s[i].replace(\"\\r\",\"\"))\n",
    "# date"
   ]
  },
  {
   "cell_type": "code",
   "execution_count": 38,
   "id": "1ad8fea5-85dc-448d-8280-1b32b081037a",
   "metadata": {},
   "outputs": [],
   "source": [
    "vote=[]\n",
    "for i in range(len(list(foo.find(class_ = \"premium-table\").find_all(class_=\"btn btn-primary btn-vote\")))):\n",
    "    vote.append(list(foo.find(class_ = \"premium-table\").find_all(class_=\"btn btn-primary btn-vote\"))[i].get_text()[2:])\n",
    "# vote"
   ]
  },
  {
   "cell_type": "code",
   "execution_count": 39,
   "id": "39dc3cb1-488b-4e9c-b93d-33c72fc7520b",
   "metadata": {},
   "outputs": [],
   "source": [
    "coins=[]\n",
    "for i in range(len(list(foo.find(class_ = \"premium-table\").find_all(class_=\"titre-coin\")))):\n",
    "    coins.append(list(foo.find(class_ = \"premium-table\").find_all(class_=\"titre-coin\"))[i].get_text().replace(\"\\n\",\" \"))\n",
    "# coins"
   ]
  },
  {
   "cell_type": "code",
   "execution_count": 259,
   "id": "2d521862-93f9-4928-995d-09226306f2bb",
   "metadata": {},
   "outputs": [
    {
     "data": {
      "text/plain": [
       "'Brunos Game'"
      ]
     },
     "execution_count": 259,
     "metadata": {},
     "output_type": "execute_result"
    }
   ],
   "source": [
    "list(foo.find(class_ = \"regular-table\").find_all(class_=\"titre-coin\"))[0].get_text().replace(\"\\n\",\" \").split(\"(\")[0]"
   ]
  },
  {
   "cell_type": "code",
   "execution_count": 40,
   "id": "53dc3708-d343-45d0-b16a-9acf821681cd",
   "metadata": {},
   "outputs": [],
   "source": [
    "premium=pd.DataFrame()\n",
    "premium[\"Coins\"]=coins\n",
    "premium[\"Cap\"]=cap\n",
    "premium[\"Votes\"]=vote\n",
    "# premium"
   ]
  },
  {
   "cell_type": "code",
   "execution_count": 41,
   "id": "ef3ba26f-3c5d-4f68-8d94-18ff06dcff09",
   "metadata": {},
   "outputs": [],
   "source": [
    "chain=[]\n",
    "for i in range (0,len(s),3):\n",
    "    chain.append(s[i])\n",
    "# chain"
   ]
  },
  {
   "cell_type": "code",
   "execution_count": 79,
   "id": "d082c400-a961-46c3-afa2-e5d15af8222c",
   "metadata": {},
   "outputs": [],
   "source": [
    "def scrap_regular_1():\n",
    "    page = requests.get(\"https://coinvote.cc/alltime&page=1\", verify=False)\n",
    "    html = BeautifulSoup(page.content, 'html.parser')\n",
    "    foo=list(html.children)[3]\n",
    "    s=[]\n",
    "    for i in range(len(list(foo.find(class_ = \"regular-table\").find_all(class_=\"coin-column-title redirect-coin\")))):\n",
    "        s.append(list(foo.find(class_ = \"regular-table\").find_all(class_=\"coin-column-title redirect-coin\"))[i].get_text().replace(\"\\n\",\" \"))\n",
    "    cap=[]\n",
    "    for i in range (1,len(s),3):\n",
    "        cap.append(s[i])\n",
    "    chain=[]\n",
    "    for i in range (0,len(s),3):\n",
    "        chain.append(s[i])\n",
    "    coins=[]\n",
    "    for i in range(len(list(foo.find(class_ = \"regular-table\").find_all(class_=\"titre-coin\")))):\n",
    "        coins.append(list(foo.find(class_ = \"regular-table\").find_all(class_=\"titre-coin\"))[i].get_text().replace(\"\\n\",\" \").split(\"(\")[0])\n",
    "    vote=[]\n",
    "    for i in range(len(list(foo.find(class_ = \"regular-table\").find_all(class_=\"btn btn-primary btn-vote\")))):\n",
    "        vote.append(list(foo.find(class_ = \"regular-table\").find_all(class_=\"btn btn-primary btn-vote\"))[i].get_text()[2:])\n",
    "    date=[]\n",
    "    for i in range (2,len(s),3):\n",
    "        date.append(s[i].replace(\"\\r\",\"\"))\n",
    "    df=pd.DataFrame()\n",
    "    df[\"Coins\"]=coins\n",
    "    df[\"Chain\"]=chain\n",
    "    df[\"Launched Since\"]=date\n",
    "    df[\"Cap\"]=cap\n",
    "    df[\"Votes\"]=vote\n",
    "    vu = df[\"Coins\"].tolist()\n",
    "    tickers=[]\n",
    "    for c in vu:\n",
    "        tickers.append(c.replace(\" \",\"-\"))\n",
    "    telegram=[]\n",
    "    tickerss=[]\n",
    "    link=[]\n",
    "    zaza=[]\n",
    "    for t in tickers:\n",
    "        tickerss.append(unicodedata.normalize(\"NFKD\", t))\n",
    "    for t in tickerss:\n",
    "        tick=requests.get(\"https://coinvote.cc/coin/\"+str(t))\n",
    "        html5=BeautifulSoup(tick.content, 'html.parser')\n",
    "        body = list(html5.children)[3]\n",
    "        telegram.append(body.find_all(class_=\"btn btn-primary btn-vote\", href=True)[2]['href'])\n",
    "    for t in tickerss:\n",
    "        tick=requests.get(\"https://coinvote.cc/coin/\"+str(t))\n",
    "        html5=BeautifulSoup(tick.content, 'html.parser')\n",
    "        body = list(html5.children)[3]\n",
    "        if body.find(class_='coin-bsc')==None:\n",
    "            zaza.append(\"null\")\n",
    "        else:\n",
    "            f=body.find_all(class_=\"coin-bsc\")[0].get_text().replace(\"\\xa0\\r\\t\\t\\t\\t\",\"\")\n",
    "            zaza.append(f.replace(\"\\n\",\"\").replace(\"\\t\",\"\")[:-5])\n",
    "    for z in zaza:\n",
    "        link.append(z.replace(\"\\xa0\\r\\t\\t\\t\\t\",\"\").replace(\"\\xa0\",\"\").replace(\"\\r\",\"\").replace(\" \",\"\").replace(\"\\t\",\"\"))\n",
    "    df[\"Telegram\"]=telegram\n",
    "    df[\"Adress\"]=link\n",
    "    \n",
    "    return df"
   ]
  },
  {
   "cell_type": "code",
   "execution_count": 2,
   "id": "12778346-261d-4051-b6ab-4f63003742c8",
   "metadata": {},
   "outputs": [],
   "source": [
    "def scrap_regular_rest():\n",
    "    num=list(range(2,250,1))\n",
    "    cap=[]\n",
    "    chain=[]\n",
    "    coins=[]\n",
    "    vote=[]\n",
    "    date=[]\n",
    "    for n in num:\n",
    "        page = requests.get(\"https://coinvote.cc/alltime&page=\"+str(n), verify=False)\n",
    "        html = BeautifulSoup(page.content, 'html.parser')\n",
    "        foo=list(html.children)[3]\n",
    "        s=[]\n",
    "        for i in range(len(list(foo.find_all(class_=\"coin-column-title redirect-coin\")))):\n",
    "            s.append(list(foo.find_all(class_=\"coin-column-title redirect-coin\"))[i].get_text().replace(\"\\n\",\" \"))\n",
    "            \n",
    "        for i in range (1,len(s),3):\n",
    "            cap.append(s[i])\n",
    "            \n",
    "        for i in range (0,len(s),3):\n",
    "            chain.append(s[i])\n",
    "            \n",
    "        for i in range(len(list(foo.find_all(class_=\"titre-coin\")))):\n",
    "            coins.append(list(foo.find_all(class_=\"titre-coin\"))[i].get_text().replace(\"\\n\",\" \").split(\"(\")[0])\n",
    "            \n",
    "        for i in range(len(list(foo.find_all(class_=\"btn btn-primary btn-vote\")))):\n",
    "            vote.append(list(foo.find_all(class_=\"btn btn-primary btn-vote\"))[i].get_text()[2:])\n",
    "            \n",
    "        for i in range (2,len(s),3):\n",
    "            date.append(s[i].replace(\"\\r\",\"\")) \n",
    "            \n",
    "    df=pd.DataFrame()\n",
    "    df[\"Coins\"]=coins\n",
    "    df[\"Chain\"]=chain\n",
    "    df[\"Launched Since\"]=date\n",
    "    df[\"Cap\"]=cap\n",
    "    df[\"Votes\"]=vote\n",
    "    vu = df[\"Coins\"].tolist()\n",
    "    tickers=[]\n",
    "    for c in vu:\n",
    "        tickers.append(c.replace(\" \",\"-\"))\n",
    "    telegram=[]\n",
    "    tickerss=[]\n",
    "    link=[]\n",
    "    zaza=[]\n",
    "    tg=\"https://t.me/\"\n",
    "    for t in tickers:\n",
    "        tickerss.append(unicodedata.normalize(\"NFKD\", t))\n",
    "    for t in tickerss:\n",
    "        tick=requests.get(\"https://coinvote.cc/coin/\"+str(t), verify=False)\n",
    "        html5=BeautifulSoup(tick.content, 'html.parser')\n",
    "        body = list(html5.children)[3]    \n",
    "        if tick.status_code!=200:\n",
    "            telegram.append(\"Null\")\n",
    "        else:\n",
    "            for i in body.find_all(class_=\"btn btn-primary btn-vote\", href=True):\n",
    "                if tg in i[\"href\"]:\n",
    "                    telegram.append(i[\"href\"])\n",
    "                else:\n",
    "                    pass\n",
    "    for t in tickerss:\n",
    "        tick=requests.get(\"https://coinvote.cc/coin/\"+str(t))\n",
    "        html5=BeautifulSoup(tick.content, 'html.parser')\n",
    "        body = list(html5.children)[3]\n",
    "        if tick.status_code!=200:\n",
    "            zaza.append(\"null\")\n",
    "        else:\n",
    "            f=body.find_all(class_=\"coin-bsc\")[0].get_text().replace(\"\\xa0\\r\\t\\t\\t\\t\",\"\")\n",
    "            zaza.append(f.replace(\"\\n\",\"\").replace(\"\\t\",\"\")[:-5])\n",
    "    for z in zaza:\n",
    "        link.append(z.replace(\"\\xa0\\r\\t\\t\\t\\t\",\"\").replace(\"\\xa0\",\"\").replace(\"\\r\",\"\").replace(\" \",\"\").replace(\"\\t\",\"\"))\n",
    "    df[\"Telegram\"]=pd.Series(telegram)\n",
    "    df[\"Adress\"]=link\n",
    "    return df"
   ]
  },
  {
   "cell_type": "code",
   "execution_count": 6,
   "id": "23abc9fa-7ffc-43e3-b0cc-56e9b58363bf",
   "metadata": {},
   "outputs": [],
   "source": [
    "exp=pd.concat([scrap_regular_1(),scrap_regular_rest()])"
   ]
  },
  {
   "cell_type": "code",
   "execution_count": 30,
   "id": "05c42f70-ce8b-4529-bddc-8bdca6277bdb",
   "metadata": {},
   "outputs": [],
   "source": [
    "exp.to_excel(\"DOCpages.xlsx\")"
   ]
  }
 ],
 "metadata": {
  "kernelspec": {
   "display_name": "myenv",
   "language": "python",
   "name": "myenv"
  },
  "language_info": {
   "codemirror_mode": {
    "name": "ipython",
    "version": 3
   },
   "file_extension": ".py",
   "mimetype": "text/x-python",
   "name": "python",
   "nbconvert_exporter": "python",
   "pygments_lexer": "ipython3",
   "version": "3.8.5"
  }
 },
 "nbformat": 4,
 "nbformat_minor": 5
}
